{
 "cells": [
  {
   "cell_type": "markdown",
   "metadata": {
    "colab_type": "text",
    "id": "SVMRfcjCpC0x"
   },
   "source": [
    "# Joint Summer Faculty Development Program 2020\n",
    "\n",
    "##Machine Learning for Computer Vision\n",
    "##June 29 to July 8, 2020"
   ]
  },
  {
   "cell_type": "markdown",
   "metadata": {
    "colab_type": "text",
    "id": "4jt8KqCCpE4Z"
   },
   "source": [
    "**Principal Coordinator - IIITDM Jabalpur : Co-Principal Coordinator - MNIT Jaipur**\n",
    "\n",
    "**Particiapting Academies -** IIT Guwahati, MNIT Jaipur, NIT Patna, IIITDM Jabalpur "
   ]
  },
  {
   "cell_type": "markdown",
   "metadata": {
    "colab_type": "text",
    "id": "2Tn0obVmpE8x"
   },
   "source": [
    "# Assignment 1: Introduction to Python  \n",
    "\n",
    "---\n",
    "\n"
   ]
  },
  {
   "cell_type": "markdown",
   "metadata": {
    "colab_type": "text",
    "id": "R9Bv34GsovHd"
   },
   "source": [
    "**Exercise 1.** Create following list:\n",
    "\n",
    "data = [2,34,23,16,56,45,34,26,78,56,1,16]\n",
    "\n",
    "Now delete the duplicate values and print the list in ascending order. "
   ]
  },
  {
   "cell_type": "code",
   "execution_count": 2,
   "metadata": {
    "colab": {},
    "colab_type": "code",
    "id": "esARDCHLoysa"
   },
   "outputs": [
    {
     "name": "stdout",
     "output_type": "stream",
     "text": [
      "[1, 2, 16, 23, 26, 34, 45, 56, 78]\n"
     ]
    }
   ],
   "source": [
    "data = [2,34,23,16,56,45,34,26,78,56,1,16]\n",
    "data = list( dict.fromkeys(data) )\n",
    "data = sorted(data)\n",
    "print(data)"
   ]
  },
  {
   "cell_type": "markdown",
   "metadata": {
    "colab_type": "text",
    "id": "5kImrrP2owii"
   },
   "source": [
    "**Exercise 2:** Take five numbers as input from the user and save into a list. Find the maximum of the list and sort the data in descending order."
   ]
  },
  {
   "cell_type": "code",
   "execution_count": 49,
   "metadata": {
    "colab": {},
    "colab_type": "code",
    "id": "O7U-8ShDosd-"
   },
   "outputs": [
    {
     "name": "stdout",
     "output_type": "stream",
     "text": [
      "Enter three value: 1,2,3,4,5\n",
      "[1, 2, 3, 4, 5]\n",
      "The maximum value of list is:-  5\n",
      "The sort in descending order is :- [5, 4, 3, 2, 1]\n"
     ]
    }
   ],
   "source": [
    "int_value = [int(x) for x in input(\"Enter three value: \").split(',')] \n",
    "print(int_value)\n",
    "print(\"The maximum value of list is:- \",max(int_value))\n",
    "print(\"The sort in descending order is :-\",sorted(int_value , reverse = True))"
   ]
  },
  {
   "cell_type": "markdown",
   "metadata": {
    "colab_type": "text",
    "id": "asaJtrdPLu28"
   },
   "source": [
    "**Exercise 4:**\n",
    "\n",
    "(i) Generate two arrays A1 and A2 of size 5 X 4 and 3 X 4 respectively using np.random()\n",
    "\n",
    "(ii) Join them and make an array A3 of 8 X 4. Now append random numbers ranging between from 0 to 5 to make the fourth array A4 of size 10 X 10. \n",
    "\n",
    "(iii) Print all the arrays and their transpose ( Transpose of 'A' can be obtained by 'A.T') "
   ]
  },
  {
   "cell_type": "code",
   "execution_count": 76,
   "metadata": {
    "colab": {},
    "colab_type": "code",
    "id": "pNV0vFKtLuQJ"
   },
   "outputs": [
    {
     "name": "stdout",
     "output_type": "stream",
     "text": [
      "The Matrix A1 is :-\n",
      "\n",
      "  [[0.02588295 0.22201816 0.06888415 0.13820617]\n",
      " [0.24977303 0.30625047 0.26022646 0.23071607]\n",
      " [0.08763079 0.49326965 0.2971213  0.16224529]\n",
      " [0.96284128 0.17143369 0.04346081 0.47547376]\n",
      " [0.33081979 0.92700861 0.59226621 0.92458914]]\n",
      "The Transpose of A1 is :-\n",
      "\n",
      "  [[0.02588295 0.24977303 0.08763079 0.96284128 0.33081979]\n",
      " [0.22201816 0.30625047 0.49326965 0.17143369 0.92700861]\n",
      " [0.06888415 0.26022646 0.2971213  0.04346081 0.59226621]\n",
      " [0.13820617 0.23071607 0.16224529 0.47547376 0.92458914]]\n",
      "The Matrix A2 is :-\n",
      "\n",
      "  [[0.72484513 0.45379047 0.83933961 0.13061817]\n",
      " [0.57794856 0.16268999 0.55386758 0.30362734]\n",
      " [0.90462473 0.48744361 0.52728492 0.03581469]]\n",
      "The Transpose of A2 is :-\n",
      "\n",
      "  [[0.72484513 0.57794856 0.90462473]\n",
      " [0.45379047 0.16268999 0.48744361]\n",
      " [0.83933961 0.55386758 0.52728492]\n",
      " [0.13061817 0.30362734 0.03581469]]\n",
      "The Matrix A3 is :-\n",
      "\n",
      "  [[0.02588295 0.22201816 0.06888415 0.13820617]\n",
      " [0.24977303 0.30625047 0.26022646 0.23071607]\n",
      " [0.08763079 0.49326965 0.2971213  0.16224529]\n",
      " [0.96284128 0.17143369 0.04346081 0.47547376]\n",
      " [0.33081979 0.92700861 0.59226621 0.92458914]\n",
      " [0.72484513 0.45379047 0.83933961 0.13061817]\n",
      " [0.57794856 0.16268999 0.55386758 0.30362734]\n",
      " [0.90462473 0.48744361 0.52728492 0.03581469]]\n",
      "The Transpose of A3 is :-\n",
      "\n",
      "  [[0.02588295 0.24977303 0.08763079 0.96284128 0.33081979 0.72484513\n",
      "  0.57794856 0.90462473]\n",
      " [0.22201816 0.30625047 0.49326965 0.17143369 0.92700861 0.45379047\n",
      "  0.16268999 0.48744361]\n",
      " [0.06888415 0.26022646 0.2971213  0.04346081 0.59226621 0.83933961\n",
      "  0.55386758 0.52728492]\n",
      " [0.13820617 0.23071607 0.16224529 0.47547376 0.92458914 0.13061817\n",
      "  0.30362734 0.03581469]]\n",
      "The Matrix A4 is :-\n",
      "\n",
      "  [[1 1 2 2 2 4 2 1 3 1]\n",
      " [4 3 4 3 0 1 2 0 2 1]\n",
      " [2 0 1 2 2 3 2 0 2 4]\n",
      " [2 2 4 3 4 0 2 4 3 3]\n",
      " [1 4 1 1 2 2 0 2 2 1]\n",
      " [2 2 1 2 1 3 0 4 1 1]\n",
      " [4 3 4 4 0 3 1 4 4 2]\n",
      " [1 1 1 4 3 2 0 2 4 0]\n",
      " [0 2 2 0 2 2 0 1 2 2]\n",
      " [4 1 4 2 2 1 4 1 0 1]]\n",
      "The Transpose of A4 is :-\n",
      "\n",
      "  [[1 4 2 2 1 2 4 1 0 4]\n",
      " [1 3 0 2 4 2 3 1 2 1]\n",
      " [2 4 1 4 1 1 4 1 2 4]\n",
      " [2 3 2 3 1 2 4 4 0 2]\n",
      " [2 0 2 4 2 1 0 3 2 2]\n",
      " [4 1 3 0 2 3 3 2 2 1]\n",
      " [2 2 2 2 0 0 1 0 0 4]\n",
      " [1 0 0 4 2 4 4 2 1 1]\n",
      " [3 2 2 3 2 1 4 4 2 0]\n",
      " [1 1 4 3 1 1 2 0 2 1]]\n",
      "The shape of  A1 is :-\n",
      "  (5, 4)\n",
      "The shape of  A2 is :-\n",
      "  (3, 4)\n",
      "The shape of  A3 is :-\n",
      "  (8, 4)\n",
      "The shape of  A4 is :-\n",
      "  (10, 10)\n"
     ]
    }
   ],
   "source": [
    "import numpy as np \n",
    "from numpy import random\n",
    "A1 = np.random.rand(5,4)\n",
    "A2 = np.random.rand(3,4)   \n",
    "A3 = np.concatenate((A1,A2))\n",
    "A4 = np.random.randint(0,5,(10,10))\n",
    "print(\"The Matrix A1 is :-\\n\\n \", A1)\n",
    "print(\"The Transpose of A1 is :-\\n\\n \",np.transpose(A1))\n",
    "\n",
    "print(\"The Matrix A2 is :-\\n\\n \", A2)\n",
    "print(\"The Transpose of A2 is :-\\n\\n \",np.transpose(A2))\n",
    "\n",
    "print(\"The Matrix A3 is :-\\n\\n \", A3)\n",
    "print(\"The Transpose of A3 is :-\\n\\n \",np.transpose(A3))\n",
    "\n",
    "print(\"The Matrix A4 is :-\\n\\n \", A4)\n",
    "print(\"The Transpose of A4 is :-\\n\\n \",np.transpose(A4))\n",
    "\n",
    "print(\"The shape of  A1 is :-\\n \", A1.shape)\n",
    "print(\"The shape of  A2 is :-\\n \", A2.shape)\n",
    "print(\"The shape of  A3 is :-\\n \", A3.shape)\n",
    "print(\"The shape of  A4 is :-\\n \", A4.shape)"
   ]
  },
  {
   "cell_type": "code",
   "execution_count": null,
   "metadata": {},
   "outputs": [],
   "source": []
  },
  {
   "cell_type": "code",
   "execution_count": null,
   "metadata": {},
   "outputs": [],
   "source": []
  },
  {
   "cell_type": "markdown",
   "metadata": {
    "colab_type": "text",
    "id": "9pL_Rk-wL5Vb"
   },
   "source": [
    "**Exercise 5: Create two dictionaries.** \n",
    "\n",
    "The first dictionary 'name' will contain first name(key) of a person and its hash value(value). \n",
    "The Second will contain hash value(key) and mobile no(value). \n",
    "\n",
    "\n",
    "i) Add 5 entries.\n",
    "\n",
    "ii) Delete two entries by taking the input from user as the first name.\n",
    "\n",
    "ii) Add two entries by taking the input as the first name and mobile no. \n",
    "\n",
    "Hint: You can use remainder ( %) to obtain hash value. "
   ]
  },
  {
   "cell_type": "code",
   "execution_count": 4,
   "metadata": {
    "colab": {},
    "colab_type": "code",
    "id": "4fvI9c19tIv4"
   },
   "outputs": [],
   "source": [
    "# Not able to answer"
   ]
  },
  {
   "cell_type": "markdown",
   "metadata": {
    "colab_type": "text",
    "id": "SsuXy_YmtDMQ"
   },
   "source": [
    "E&ICT PDPM IIITDM Jabalpur"
   ]
  }
 ],
 "metadata": {
  "colab": {
   "collapsed_sections": [],
   "name": "Assignment 1(Introduction_to_python_FDP_29/06/2020/2.ipynb",
   "provenance": []
  },
  "kernelspec": {
   "display_name": "Python 3",
   "language": "python",
   "name": "python3"
  },
  "language_info": {
   "codemirror_mode": {
    "name": "ipython",
    "version": 3
   },
   "file_extension": ".py",
   "mimetype": "text/x-python",
   "name": "python",
   "nbconvert_exporter": "python",
   "pygments_lexer": "ipython3",
   "version": "3.7.4"
  }
 },
 "nbformat": 4,
 "nbformat_minor": 1
}
